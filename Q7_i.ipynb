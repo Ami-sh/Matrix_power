{
 "cells": [
  {
   "cell_type": "raw",
   "id": "0d730b94",
   "metadata": {},
   "source": [
    "Submission for Project-I\n",
    "\n",
    "Name: Amish Gupta\n",
    "\n",
    "ID: 2019B5AA1386H\n",
    "\n",
    "Course Title: Applied Stochastic Processes\n",
    "\n",
    "Course Code: Math F424"
   ]
  },
  {
   "cell_type": "markdown",
   "id": "5c1fb13e",
   "metadata": {},
   "source": [
    "______________________________________________________________________________________________________\n",
    "______________________________________________________________________________________________________"
   ]
  },
  {
   "cell_type": "raw",
   "id": "f9a29851",
   "metadata": {},
   "source": [
    "Q7(i) Write a program that calculates different powers of a square matrix\n",
    "of any given order."
   ]
  },
  {
   "cell_type": "raw",
   "id": "c751302e",
   "metadata": {},
   "source": [
    "Answer: To solve the given problem, we will try various methods and look at their time complexities.\n"
   ]
  },
  {
   "cell_type": "raw",
   "id": "ead8a38c",
   "metadata": {},
   "source": [
    "Method 1: Brute Force or the basic approach that we usually do, here we multiply the matrices as many times the power mentions us to do.\n",
    "\n",
    "The code for this is divided into Four fragments:\n",
    "1)A function to multiply any given matrices.\n",
    "2)A function to find inverse of a matrix.\n",
    "3)A iterative function to find the mth power of the given matrix.\n",
    "4)Taking the matrix input.\n",
    "\n",
    "\n",
    "Worst Case Time complexity analysis to perform the operation:\n",
    "Multiplication of any two given square matrix in brute force manner takes O(n^3), this can be understood as there are three nested loops used in the multiply function. or another way to think about it is that the resultant matrix has n^2 elements and computing each element takes n operations as any (i,j) element in resultant matrix requires i-th row elements to be multiplied by each element of j-th column in a fashion such that:\n",
    "\n",
    "result[i][j]= A[i][0]* B[0][j]+ A[i][1]* B[1][j] +.....+ A[i][n] * B[n][j] \n",
    "\n",
    "Note that O(number of operations)=O(number of multiplication + number of addition)= O((n) + (n-1)) = O(n).\n",
    "This is now done m times to achieve a final time complexity of O(n^3*m).\n",
    "\n",
    "Now, to find inverse (in order to handle negative powers) I here have used a library, as the brute force time complexity of taking inverse of a matrix is O(n^3) and best being O(n^2) which gets engulfed in O(n^3*m) as O(n^3*m + n^3) =O(n^3 * m). Finding inverse and it's optimisation is whole another set of problems which I think is irrelevant to the discussion here as big-Oh notation engulfs this set of operations no matter what algorithm we use. However, the following links talks in detail about the same:\n",
    "https://en.wikipedia.org/wiki/Computational_complexity_of_mathematical_operations#Matrix_algebra\n",
    "\n",
    "Hence, the time final time-complexity turns out to be O(n^3 * m ). Now ofcourse this is assuming the fact that multiplication/addition of any two numbers occur in O(1) time-complexity. This simplication is assummed because large and repeated multiplications are also problems of their own. \n",
    "\n",
    "\n"
   ]
  },
  {
   "cell_type": "code",
   "execution_count": 67,
   "id": "2c40bb2c",
   "metadata": {},
   "outputs": [
    {
     "name": "stdout",
     "output_type": "stream",
     "text": [
      "Enter the order of matrix:  3\n",
      "enter 0th row elements (use spaces between two elements)\n",
      "12 7 3\n",
      "enter 1th row elements (use spaces between two elements)\n",
      "4 5 6\n",
      "enter 2th row elements (use spaces between two elements)\n",
      "7 8 9\n",
      "Enter the power 3\n",
      "[[3623, 2906, 2382], [2396, 2043, 1800], [3842, 3258, 2853]]\n"
     ]
    }
   ],
   "source": [
    "#Code for Method 1:\n",
    "def multiply(A,B):\n",
    "    ans = [[0 for i in range(len(B))] for j in range(len(A[0]))]\n",
    "    for i in range(len(A)):\n",
    "        for j in range(len(B[0])):\n",
    "            for k in range(len(B)):\n",
    "                ans[i][j] += A[i][k] * B[k][j]\n",
    "    return ans\n",
    "\n",
    "def inverse(matrix):\n",
    "    import numpy as np\n",
    "    try:\n",
    "        i=np.linalg.inv(matrix)\n",
    "        return i\n",
    "    except:\n",
    "        print(\"Inverse of the given matrix not possible\")\n",
    "\n",
    "def exponentOfMatrix(matrix,m):\n",
    "    if m<0:\n",
    "        answer=[[0 if i!=j else 1 for i in range(len(matrix))] for j in range(len(matrix))]\n",
    "        for i in range(abs(m)):\n",
    "            answer=multiply(answer,matrix)\n",
    "        return inverse(matrix)\n",
    "    else:\n",
    "        answer=[[0 if i!=j else 1 for i in range(len(matrix))] for j in range(len(matrix))]\n",
    "        for i in range(abs(m)):\n",
    "            answer=multiply(answer,matrix)\n",
    "        return answer\n",
    "        \n",
    "    \n",
    "\n",
    "try:\n",
    "    n=int(input(\"Enter the order of matrix: \"))\n",
    "    matrix=([ print(\"enter \" +str(j)+\"th row elements (use spaces between two elements)\") \n",
    "             or [int(i) for i in input().split() ]  for j in range(n)])\n",
    "    m=int(input(\"Enter the power \"))\n",
    "    answer=exponentOfMatrix(matrix,m)\n",
    "    print(answer)\n",
    "except:\n",
    "    print(\"Invalid input given, please try again\")\n"
   ]
  },
  {
   "cell_type": "markdown",
   "id": "50488bad",
   "metadata": {},
   "source": [
    "______________________________________________________________________________________________________\n",
    "______________________________________________________________________________________________________"
   ]
  },
  {
   "cell_type": "raw",
   "id": "cf27e937",
   "metadata": {},
   "source": [
    "Method 2: Recursive approach to above problem.\n",
    "\n",
    "Reccurence relation used here is:\n",
    "A^m = A^(m/2) * A^(m/2)\n",
    "\n",
    "The code for this is  again divided into Four fragments:\n",
    "1)A function to multiply any given matrices.\n",
    "2)A function to find inverse of a matrix.\n",
    "3)A iterative function to find the mth power of the given matrix.\n",
    "4)Taking the matrix input.\n",
    "\n",
    "Time complexity= O(n^3 * (number of matrix multiplications)).\n",
    "\n",
    "O(number of matrix multiplications)= O(1 + 2 + 4 + 8 + .... log(m)) = O(m).\n",
    "\n",
    "Therefore overall time complexity is O(n^3 * m).\n",
    "\n",
    "Here, since we make log(m) recursive calls we also make use of auxilliary space."
   ]
  },
  {
   "cell_type": "code",
   "execution_count": 83,
   "id": "f85ae5ae",
   "metadata": {},
   "outputs": [
    {
     "name": "stdout",
     "output_type": "stream",
     "text": [
      "Enter the order of matrix: 3\n",
      "enter 0th row elements (use spaces between two elements)\n",
      "12 7 3\n",
      "enter 1th row elements (use spaces between two elements)\n",
      "4 5 6\n",
      "enter 2th row elements (use spaces between two elements)\n",
      "7 8 9\n",
      "Enter the power 3\n",
      "[[3623, 2906, 2382], [2396, 2043, 1800], [3842, 3258, 2853]]\n"
     ]
    }
   ],
   "source": [
    "#Code for Method 2:\n",
    "\n",
    "def multiply(A,B):\n",
    "    if tuple([A,B]) in hm:\n",
    "        return hm[tuple([A,B])]\n",
    "    ans = [[0 for i in range(len(B))] for j in range(len(A[0]))]\n",
    "    for i in range(len(A)):\n",
    "        for j in range(len(B[0])):\n",
    "            for k in range(len(B)):\n",
    "                ans[i][j] += A[i][k] * B[k][j]\n",
    "    hm[tuple([A,B])]=ans\n",
    "    return ans\n",
    "\n",
    "def inverse(matrix):\n",
    "    import numpy as np\n",
    "    try:\n",
    "        i=np.linalg.inv(matrix)\n",
    "        return i\n",
    "    except:\n",
    "        print(\"Inverse of the given matrix not possible\")\n",
    "\n",
    "\n",
    "def exponentOfMatrix(matrix,m):\n",
    "    \n",
    "    if m<0:\n",
    "        m=-1*m\n",
    "        if abs(m)==1:\n",
    "            return inverse(matrix)\n",
    "        if abs(m)%2==0:\n",
    "            return inverse(multiply(exponentOfMatrix(matrix,m//2),exponentOfMatrix(matrix,m//2)))\n",
    "        if abs(m)%2!=0:\n",
    "            return inverse(multiply(exponentOfMatrix(matrix,(m-1)/2),exponentOfMatrix(matrix,(m+1)/2)))\n",
    "    else:\n",
    "        if m==0:\n",
    "            return [[1 for i in range(len(matrix))] for j in range(matrix[0])]\n",
    "        if m==1:\n",
    "            return matrix\n",
    "        if m%2==0:\n",
    "            return multiply(exponentOfMatrix(matrix,m//2),exponentOfMatrix(matrix,m//2))\n",
    "        if m%2!=0:\n",
    "            return multiply(exponentOfMatrix(matrix,(m-1)/2),exponentOfMatrix(matrix,(m+1)/2))\n",
    "            \n",
    "    \n",
    "\n",
    "try:\n",
    "    n=int(input(\"Enter the order of matrix: \"))\n",
    "    matrix=([ print(\"enter \" +str(j)+\"th row elements (use spaces between two elements)\") \n",
    "             or [int(i) for i in input().split() ]  for j in range(n)])\n",
    "    m=int(input(\"Enter the power \"))\n",
    "    answer=exponentOfMatrix(matrix,m)\n",
    "    print(answer)\n",
    "except:\n",
    "    print(\"Invalid input given, please try again\")\n"
   ]
  },
  {
   "cell_type": "markdown",
   "id": "7762d0b4",
   "metadata": {},
   "source": [
    "______________________________________________________________________________________________________\n",
    "______________________________________________________________________________________________________"
   ]
  },
  {
   "cell_type": "raw",
   "id": "9161a7e0",
   "metadata": {},
   "source": [
    "Method 3: With a very small trick applied to method two, we can easily reduce the time complexity to O(n^3* log(m)).\n",
    "\n",
    "All that needs to be done is to store the matrix multiplication matrices\n",
    "The code for this is the same as above with an additional dictionary storing the key value pairs where keys are the matrix to be multiplied and values are the answers. We basically eliminate repeated matrix multiplication. \n",
    "So when recursive calls are made, at each layer of the tree, only one matrix multiplication is made, previous the number of multiplications were 2^x, where x ranged from 1 to log(m) \n",
    "There's auxilliary space being used up due to the recursive calls and normal space being used up due to the caching. Auxilliary space can be reduced by converting it to an iterative solution"
   ]
  },
  {
   "cell_type": "code",
   "execution_count": 113,
   "id": "a12147e2",
   "metadata": {},
   "outputs": [
    {
     "name": "stdout",
     "output_type": "stream",
     "text": [
      "Enter the order of matrix: 3\n",
      "enter 0th row elements (use spaces between two elements)\n",
      "12 7 3\n",
      "enter 1th row elements (use spaces between two elements)\n",
      "4 5 6\n",
      "enter 2th row elements (use spaces between two elements)\n",
      "7 8 9\n",
      "Enter the power -10\n",
      "[[ -307.80428919 -4569.22576498  3139.78133209]\n",
      " [  687.73328403 10209.11257904 -7015.27627254]\n",
      " [ -370.85557447 -5505.19568869  3782.94081799]]\n"
     ]
    }
   ],
   "source": [
    "#Code for Method 3:\n",
    "\n",
    "hm={}\n",
    "def multiply(A,B):\n",
    "    ans = [[0 for i in range(len(B))] for j in range(len(A[0]))]\n",
    "    for i in range(len(A)):\n",
    "        for j in range(len(B[0])):\n",
    "            for k in range(len(B)):\n",
    "                ans[i][j] += A[i][k] * B[k][j]\n",
    "    return ans\n",
    "\n",
    "def inverse(matrix):\n",
    "    import numpy as np\n",
    "    try:\n",
    "        i=np.linalg.inv(matrix)\n",
    "        return i\n",
    "    except:\n",
    "        print(\"Inverse of the given matrix not possible\")\n",
    "\n",
    "\n",
    "def exponentOfMatrix(matrix,m):\n",
    "    if m<0:\n",
    "        m=-1*m\n",
    "        if abs(m) in hm:\n",
    "            return inverse(hm[1*m])\n",
    "        if abs(m)==1:\n",
    "            return inverse(matrix)\n",
    "        if abs(m)%2==0:\n",
    "            hm[m]=(multiply(exponentOfMatrix(matrix,m//2),exponentOfMatrix(matrix,m//2)))\n",
    "            return inverse(hm[m])\n",
    "        if abs(m)%2!=0:\n",
    "            hm[m]=multiply(exponentOfMatrix(matrix,(m-1)/2),exponentOfMatrix(matrix,(m+1)/2))\n",
    "            return inverse(hm[m])\n",
    "    else:\n",
    "        if abs(m) in hm:\n",
    "            return hm[m]\n",
    "        if m==0:\n",
    "            return [[1 for i in range(len(matrix))] for j in range(matrix[0])]\n",
    "        if m==1:\n",
    "            return matrix\n",
    "        if m%2==0:\n",
    "            hm[m]=multiply(exponentOfMatrix(matrix,m//2),exponentOfMatrix(matrix,m//2))\n",
    "            return hm[m]\n",
    "        if m%2!=0:\n",
    "            hm[m]=multiply(exponentOfMatrix(matrix,(m-1)/2),exponentOfMatrix(matrix,(m+1)/2))\n",
    "            return hm[m]\n",
    "            \n",
    "    \n",
    "\n",
    "try:\n",
    "    n=int(input(\"Enter the order of matrix: \"))\n",
    "    matrix=([ print(\"enter \" +str(j)+\"th row elements (use spaces between two elements)\") \n",
    "             or [int(i) for i in input().split() ]  for j in range(n)])\n",
    "    m=int(input(\"Enter the power \"))\n",
    "    answer=exponentOfMatrix(matrix,m)\n",
    "    print(answer)\n",
    "except:\n",
    "    print(\"Invalid input given, please try again\")\n"
   ]
  },
  {
   "cell_type": "code",
   "execution_count": 91,
   "id": "09a0f644",
   "metadata": {
    "scrolled": true
   },
   "outputs": [
    {
     "data": {
      "text/plain": [
       "{2.0: [[214, 167, 168], [110, 101, 108], [179, 161, 171]],\n",
       " 3.0: [[4412, 3677, 3798], [2480, 2139, 2238], [3989, 3426, 3579]],\n",
       " 5: [[2028480, 1719659, 1787790],\n",
       "  [1166612, 990517, 1030350],\n",
       "  [1871147, 1588408, 1652169]],\n",
       " 10: [[9466123830838, 8031385300343, 8352078126360],\n",
       "  [5449934439614, 4623914935397, 4808548787580],\n",
       "  [8740091168099, 7415398362761, 7711496482491]]}"
      ]
     },
     "execution_count": 91,
     "metadata": {},
     "output_type": "execute_result"
    }
   ],
   "source": [
    "hm #to access other powers lower than m for the  matrix, we can see the given dictionary"
   ]
  },
  {
   "cell_type": "markdown",
   "id": "e0246f16",
   "metadata": {},
   "source": [
    "______________________________________________________________________________________________________\n",
    "______________________________________________________________________________________________________"
   ]
  },
  {
   "cell_type": "raw",
   "id": "ad22f451",
   "metadata": {},
   "source": [
    "Method 4: \n",
    "M = V * D * V^-1\n",
    "Where V is the eigenvector matrix and D is a diagonal matrix. To raise this to the Nth power, you get something like:\n",
    "M^n = (V * D * V^-1) * (V * D * V^-1) * ... * (V * D * V^-1) = V * D^n * V^-1.\n",
    "Time to find eigenvector is O(n^3) \n",
    "This reduces the time complexity further down from O(n^3 * log(m)) to O(n^3).\n",
    "\n",
    "\n",
    "To find eigenvector matrix, inverse and diagnol matrix, I have used libraries.\n",
    "Method inspired and taken from: https://stackoverflow.com/a/12312009/16179688\n"
   ]
  },
  {
   "cell_type": "code",
   "execution_count": 145,
   "id": "bf6c1db7",
   "metadata": {
    "scrolled": true
   },
   "outputs": [
    {
     "name": "stdout",
     "output_type": "stream",
     "text": [
      "Enter the order of matrix: 3\n",
      "enter 0th row elements (use spaces between two elements)\n",
      "12 7 3\n",
      "enter 1th row elements (use spaces between two elements)\n",
      "4 5 6\n",
      "enter 2th row elements (use spaces between two elements)\n",
      "7 8 9\n",
      "Enter the power 3\n",
      "[[3623.0000000000005, 2905.999999999998, 2381.9999999999986], [2395.9999999999986, 2042.999999999997, 1799.999999999998], [3841.9999999999977, 3257.999999999996, 2852.9999999999973]]\n"
     ]
    }
   ],
   "source": [
    "# Code for Method 4:\n",
    "import numpy as np\n",
    "\n",
    "def inverse(matrix):\n",
    "    import numpy as np\n",
    "    try:\n",
    "        i=np.linalg.inv(matrix)\n",
    "        return i\n",
    "    except:\n",
    "        print(\"Inverse of the given matrix not possible\")\n",
    "\n",
    "def multiply(A,B):\n",
    "    ans = [[0 for i in range(len(B))] for j in range(len(A[0]))]\n",
    "    for i in range(len(A)):\n",
    "        for j in range(len(B[0])):\n",
    "            for k in range(len(B)):\n",
    "                ans[i][j] += A[i][k] * B[k][j]\n",
    "    return ans\n",
    "\n",
    "def eigenvectorMatrix(matrix):\n",
    "    eigenvalues, eigenvectors = np.linalg.eig(matrix)\n",
    "    return eigenvectors\n",
    "    \n",
    "def diagnolMatrix(matrix,m):\n",
    "    eigenvalues, eigenvectors = np.linalg.eig(matrix)\n",
    "    for i in range(len(eigenvalues)):\n",
    "        eigenvalues[i]=eigenvalues[i]**m\n",
    "    D=[[0 if i!=j else eigenvalues[j] for i in range(len(matrix))] for j in range(len(matrix))]\n",
    "    return D\n",
    "\n",
    "def exponentOfMatrix(matrix,m):\n",
    "    V=eigenvectorMatrix(matrix)\n",
    "    D=diagnolMatrix(matrix,m)\n",
    "    Vinv=inverse(V)\n",
    "    answer=multiply(V,multiply(D,Vinv))\n",
    "    return answer\n",
    "\n",
    "n=int(input(\"Enter the order of matrix: \"))\n",
    "matrix=([ print(\"enter \" +str(j)+\"th row elements (use spaces between two elements)\") \n",
    "         or [int(i) for i in input().split() ]  for j in range(n)])\n",
    "m=int(input(\"Enter the power \"))\n",
    "# matrix = np.asarray(matrix, dtype=np.float32)\n",
    "answer=exponentOfMatrix(matrix,m)\n",
    "print(answer)\n"
   ]
  }
 ],
 "metadata": {
  "kernelspec": {
   "display_name": "Python 3 (ipykernel)",
   "language": "python",
   "name": "python3"
  },
  "language_info": {
   "codemirror_mode": {
    "name": "ipython",
    "version": 3
   },
   "file_extension": ".py",
   "mimetype": "text/x-python",
   "name": "python",
   "nbconvert_exporter": "python",
   "pygments_lexer": "ipython3",
   "version": "3.9.13"
  }
 },
 "nbformat": 4,
 "nbformat_minor": 5
}
