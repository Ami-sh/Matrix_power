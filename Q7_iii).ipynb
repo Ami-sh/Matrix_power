{
 "cells": [
  {
   "cell_type": "markdown",
   "id": "98823f16",
   "metadata": {},
   "source": [
    "Submission for Project-I\n",
    "\n",
    "Name: Amish Gupta\n",
    "\n",
    "ID: 2019B5AA1386H\n",
    "\n",
    "Course Title: Applied Stochastic Processes\n",
    "\n",
    "Course Code: Math F424"
   ]
  },
  {
   "cell_type": "markdown",
   "id": "c42a7a79",
   "metadata": {},
   "source": [
    "______________________________________________________________________________________________________\n",
    "______________________________________________________________________________________________________"
   ]
  },
  {
   "cell_type": "markdown",
   "id": "a2ce9592",
   "metadata": {},
   "source": [
    "Q7(iii) Write a program that determines whether a transition matrix corresponds to a regular Markov chain."
   ]
  },
  {
   "cell_type": "markdown",
   "id": "060bc296",
   "metadata": {},
   "source": [
    "Answer: We divide the problem into two parts:\n",
    "1) We check that sum of each row = 1 and each element>=0; to verify that it is a valid transition matrix.\n",
    "2) We check T^n should be such that each element > 0 for some n, then it's regular else not.\n",
    "\n",
    "part 1) is fairly simple, we iterate through each row and check for the conditions as the statement demands, this will take O(n^2) time as we go through each element in a matrix of the order n.\n",
    "\n",
    "part 2) \n",
    "This is fairly complicated as the following question arises: \"at what power of the matrix we stop checking?\"\n",
    "Some other equivalent checks would be:\n",
    "a)A stochastic matrix is regular if it's irreducible and has at least one non-zero entry on its main diagonal.\n",
    "b)lim m→∞ A^m exists and has rank 1\n",
    "However, none of them are useful. To solve our problem we use the following theorem:\n",
    "Theorem: If A is an n×n matrix with nonnegative entries, and some power of A has only positive entries, then A^q has only positive entries, where q=n2−2n+2. This is sharp; there is a matrix for which A^(q−1) does not have only positive entries.\n",
    "\n",
    "The reference to the above is: https://math.stackexchange.com/questions/450090/if-p-is-a-regular-transition-probability-matrix-then-pn2-has-no-zero-ele. \n",
    "Now, using logic:\n",
    "p: If A is an n×n matrix with nonnegative entries, is a regular matrix.\n",
    "q: then A^q has no zero element\n",
    "Theorem: p->q is true.\n",
    "Therefor ~q->~p = true. (It's contrapositive is also true)\n",
    "\n",
    "Now to solve the A^q we use the method from question 7_i). Hence the time complexity: O(n^3)\n",
    "\n"
   ]
  },
  {
   "cell_type": "markdown",
   "id": "a2de83fd",
   "metadata": {},
   "source": []
  },
  {
   "cell_type": "code",
   "execution_count": 11,
   "id": "045f6513",
   "metadata": {},
   "outputs": [
    {
     "name": "stdout",
     "output_type": "stream",
     "text": [
      "input the order of the matrix3\n",
      "input matrix\n",
      "0.7 0 0.3\n",
      "0 1 0\n",
      "0.2 0 0.8\n",
      "Not Regular\n"
     ]
    }
   ],
   "source": [
    "#below is the implementation of part 1\n",
    "def validTransition(matrix):\n",
    "    for row in matrix:\n",
    "        if len(row)<len(matrix) :\n",
    "            return [False,0]\n",
    "        if sum(row)!=1:\n",
    "            return [False,1]\n",
    "    return [True,1]\n",
    "import numpy as np\n",
    "\n",
    "def inverse(matrix):\n",
    "    import numpy as np\n",
    "    try:\n",
    "        i=np.linalg.inv(matrix)\n",
    "        return i\n",
    "    except:\n",
    "        print(\"Inverse of the given matrix not possible\")\n",
    "\n",
    "def multiply(A,B):\n",
    "    ans = [[0 for i in range(len(B))] for j in range(len(A[0]))]\n",
    "    for i in range(len(A)):\n",
    "        for j in range(len(B[0])):\n",
    "            for k in range(len(B)):\n",
    "                ans[i][j] += A[i][k] * B[k][j]\n",
    "    return ans\n",
    "\n",
    "def eigenvectorMatrix(matrix):\n",
    "    eigenvalues, eigenvectors = np.linalg.eig(matrix)\n",
    "    return eigenvectors\n",
    "    \n",
    "def diagnolMatrix(matrix,m):\n",
    "    eigenvalues, eigenvectors = np.linalg.eig(matrix)\n",
    "    for i in range(len(eigenvalues)):\n",
    "        eigenvalues[i]=eigenvalues[i]**m\n",
    "    D=[[0 if i!=j else eigenvalues[j] for i in range(len(matrix))] for j in range(len(matrix))]\n",
    "    return D\n",
    "\n",
    "def exponentOfMatrix(matrix,m):\n",
    "    V=eigenvectorMatrix(matrix)\n",
    "    D=diagnolMatrix(matrix,m)\n",
    "    Vinv=inverse(V)\n",
    "    answer=multiply(V,multiply(D,Vinv))\n",
    "    return answer\n",
    "\n",
    "\n",
    "\n",
    "#below is the implementation of part2\n",
    "def isRegular(matrix):\n",
    "    q=len(matrix)**2-2*n+2\n",
    "    answer=exponentOfMatrix(matrix,q)\n",
    "    for row in answer:\n",
    "        for elements in row:\n",
    "            if elements<=0:\n",
    "                return \"Not Regular\"\n",
    "            \n",
    "    return \"Regular\"\n",
    "    \n",
    "    \n",
    "    #checking is \n",
    "    \n",
    "    \n",
    "n=int(input(\"input the order of the matrix\"))\n",
    "print(\"input matrix\")\n",
    "matrix=[]\n",
    "for i in range(n):\n",
    "    matrix.append(list(map(float,input().split())))\n",
    "    \n",
    "\n",
    "valid,error= validTransition(matrix)\n",
    "if not valid and error==0 : \n",
    "    print(\"Invalid matrix\")\n",
    "elif not valid and error==1:\n",
    "    print(\"Not a valid transition matrix\")\n",
    "else:\n",
    "    print(isRegular(matrix))\n",
    "\n",
    "    "
   ]
  },
  {
   "cell_type": "code",
   "execution_count": null,
   "id": "94e3bcb5",
   "metadata": {},
   "outputs": [],
   "source": []
  },
  {
   "cell_type": "code",
   "execution_count": null,
   "id": "9e8772c4",
   "metadata": {},
   "outputs": [],
   "source": []
  }
 ],
 "metadata": {
  "kernelspec": {
   "display_name": "Python 3 (ipykernel)",
   "language": "python",
   "name": "python3"
  },
  "language_info": {
   "codemirror_mode": {
    "name": "ipython",
    "version": 3
   },
   "file_extension": ".py",
   "mimetype": "text/x-python",
   "name": "python",
   "nbconvert_exporter": "python",
   "pygments_lexer": "ipython3",
   "version": "3.9.13"
  }
 },
 "nbformat": 4,
 "nbformat_minor": 5
}
